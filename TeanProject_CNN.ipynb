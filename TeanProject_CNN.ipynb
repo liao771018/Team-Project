{
  "nbformat": 4,
  "nbformat_minor": 0,
  "metadata": {
    "colab": {
      "name": "TeanProject_CNN.ipynb",
      "provenance": [],
      "collapsed_sections": [],
      "include_colab_link": true
    },
    "kernelspec": {
      "name": "python3",
      "display_name": "Python 3"
    },
    "language_info": {
      "name": "python"
    },
    "gpuClass": "standard",
    "accelerator": "GPU",
    "widgets": {
      "application/vnd.jupyter.widget-state+json": {
        "51e60d1b8bd94f1c858269f91d853256": {
          "model_module": "@jupyter-widgets/controls",
          "model_name": "HBoxModel",
          "model_module_version": "1.5.0",
          "state": {
            "_dom_classes": [],
            "_model_module": "@jupyter-widgets/controls",
            "_model_module_version": "1.5.0",
            "_model_name": "HBoxModel",
            "_view_count": null,
            "_view_module": "@jupyter-widgets/controls",
            "_view_module_version": "1.5.0",
            "_view_name": "HBoxView",
            "box_style": "",
            "children": [
              "IPY_MODEL_06a8f0fbcd9c4c0cbe721a8d8f73c80b",
              "IPY_MODEL_5da4bc66dfd9404ab4752a52229c2fca",
              "IPY_MODEL_60365c3dcb2f4add976f5b7bd06242bb"
            ],
            "layout": "IPY_MODEL_d644e6fd79134fb6841d84ba7f5dcebd"
          }
        },
        "06a8f0fbcd9c4c0cbe721a8d8f73c80b": {
          "model_module": "@jupyter-widgets/controls",
          "model_name": "HTMLModel",
          "model_module_version": "1.5.0",
          "state": {
            "_dom_classes": [],
            "_model_module": "@jupyter-widgets/controls",
            "_model_module_version": "1.5.0",
            "_model_name": "HTMLModel",
            "_view_count": null,
            "_view_module": "@jupyter-widgets/controls",
            "_view_module_version": "1.5.0",
            "_view_name": "HTMLView",
            "description": "",
            "description_tooltip": null,
            "layout": "IPY_MODEL_e4a04631e8be42bfa78599673c1077f0",
            "placeholder": "​",
            "style": "IPY_MODEL_a8f29faf866e4745946bfceb39b1428c",
            "value": "  0%"
          }
        },
        "5da4bc66dfd9404ab4752a52229c2fca": {
          "model_module": "@jupyter-widgets/controls",
          "model_name": "FloatProgressModel",
          "model_module_version": "1.5.0",
          "state": {
            "_dom_classes": [],
            "_model_module": "@jupyter-widgets/controls",
            "_model_module_version": "1.5.0",
            "_model_name": "FloatProgressModel",
            "_view_count": null,
            "_view_module": "@jupyter-widgets/controls",
            "_view_module_version": "1.5.0",
            "_view_name": "ProgressView",
            "bar_style": "",
            "description": "",
            "description_tooltip": null,
            "layout": "IPY_MODEL_366a8f983e6a4618bb446153b3c636e7",
            "max": 61,
            "min": 0,
            "orientation": "horizontal",
            "style": "IPY_MODEL_13578c4c4e2542debe85578003c89051",
            "value": 0
          }
        },
        "60365c3dcb2f4add976f5b7bd06242bb": {
          "model_module": "@jupyter-widgets/controls",
          "model_name": "HTMLModel",
          "model_module_version": "1.5.0",
          "state": {
            "_dom_classes": [],
            "_model_module": "@jupyter-widgets/controls",
            "_model_module_version": "1.5.0",
            "_model_name": "HTMLModel",
            "_view_count": null,
            "_view_module": "@jupyter-widgets/controls",
            "_view_module_version": "1.5.0",
            "_view_name": "HTMLView",
            "description": "",
            "description_tooltip": null,
            "layout": "IPY_MODEL_4fefb139c8f54e34906abf4539cb0bd2",
            "placeholder": "​",
            "style": "IPY_MODEL_dff54b50c77749afa8ecc352aa51e3e2",
            "value": " 0/61 [00:00&lt;?, ?it/s]"
          }
        },
        "d644e6fd79134fb6841d84ba7f5dcebd": {
          "model_module": "@jupyter-widgets/base",
          "model_name": "LayoutModel",
          "model_module_version": "1.2.0",
          "state": {
            "_model_module": "@jupyter-widgets/base",
            "_model_module_version": "1.2.0",
            "_model_name": "LayoutModel",
            "_view_count": null,
            "_view_module": "@jupyter-widgets/base",
            "_view_module_version": "1.2.0",
            "_view_name": "LayoutView",
            "align_content": null,
            "align_items": null,
            "align_self": null,
            "border": null,
            "bottom": null,
            "display": null,
            "flex": null,
            "flex_flow": null,
            "grid_area": null,
            "grid_auto_columns": null,
            "grid_auto_flow": null,
            "grid_auto_rows": null,
            "grid_column": null,
            "grid_gap": null,
            "grid_row": null,
            "grid_template_areas": null,
            "grid_template_columns": null,
            "grid_template_rows": null,
            "height": null,
            "justify_content": null,
            "justify_items": null,
            "left": null,
            "margin": null,
            "max_height": null,
            "max_width": null,
            "min_height": null,
            "min_width": null,
            "object_fit": null,
            "object_position": null,
            "order": null,
            "overflow": null,
            "overflow_x": null,
            "overflow_y": null,
            "padding": null,
            "right": null,
            "top": null,
            "visibility": null,
            "width": null
          }
        },
        "e4a04631e8be42bfa78599673c1077f0": {
          "model_module": "@jupyter-widgets/base",
          "model_name": "LayoutModel",
          "model_module_version": "1.2.0",
          "state": {
            "_model_module": "@jupyter-widgets/base",
            "_model_module_version": "1.2.0",
            "_model_name": "LayoutModel",
            "_view_count": null,
            "_view_module": "@jupyter-widgets/base",
            "_view_module_version": "1.2.0",
            "_view_name": "LayoutView",
            "align_content": null,
            "align_items": null,
            "align_self": null,
            "border": null,
            "bottom": null,
            "display": null,
            "flex": null,
            "flex_flow": null,
            "grid_area": null,
            "grid_auto_columns": null,
            "grid_auto_flow": null,
            "grid_auto_rows": null,
            "grid_column": null,
            "grid_gap": null,
            "grid_row": null,
            "grid_template_areas": null,
            "grid_template_columns": null,
            "grid_template_rows": null,
            "height": null,
            "justify_content": null,
            "justify_items": null,
            "left": null,
            "margin": null,
            "max_height": null,
            "max_width": null,
            "min_height": null,
            "min_width": null,
            "object_fit": null,
            "object_position": null,
            "order": null,
            "overflow": null,
            "overflow_x": null,
            "overflow_y": null,
            "padding": null,
            "right": null,
            "top": null,
            "visibility": null,
            "width": null
          }
        },
        "a8f29faf866e4745946bfceb39b1428c": {
          "model_module": "@jupyter-widgets/controls",
          "model_name": "DescriptionStyleModel",
          "model_module_version": "1.5.0",
          "state": {
            "_model_module": "@jupyter-widgets/controls",
            "_model_module_version": "1.5.0",
            "_model_name": "DescriptionStyleModel",
            "_view_count": null,
            "_view_module": "@jupyter-widgets/base",
            "_view_module_version": "1.2.0",
            "_view_name": "StyleView",
            "description_width": ""
          }
        },
        "366a8f983e6a4618bb446153b3c636e7": {
          "model_module": "@jupyter-widgets/base",
          "model_name": "LayoutModel",
          "model_module_version": "1.2.0",
          "state": {
            "_model_module": "@jupyter-widgets/base",
            "_model_module_version": "1.2.0",
            "_model_name": "LayoutModel",
            "_view_count": null,
            "_view_module": "@jupyter-widgets/base",
            "_view_module_version": "1.2.0",
            "_view_name": "LayoutView",
            "align_content": null,
            "align_items": null,
            "align_self": null,
            "border": null,
            "bottom": null,
            "display": null,
            "flex": null,
            "flex_flow": null,
            "grid_area": null,
            "grid_auto_columns": null,
            "grid_auto_flow": null,
            "grid_auto_rows": null,
            "grid_column": null,
            "grid_gap": null,
            "grid_row": null,
            "grid_template_areas": null,
            "grid_template_columns": null,
            "grid_template_rows": null,
            "height": null,
            "justify_content": null,
            "justify_items": null,
            "left": null,
            "margin": null,
            "max_height": null,
            "max_width": null,
            "min_height": null,
            "min_width": null,
            "object_fit": null,
            "object_position": null,
            "order": null,
            "overflow": null,
            "overflow_x": null,
            "overflow_y": null,
            "padding": null,
            "right": null,
            "top": null,
            "visibility": null,
            "width": null
          }
        },
        "13578c4c4e2542debe85578003c89051": {
          "model_module": "@jupyter-widgets/controls",
          "model_name": "ProgressStyleModel",
          "model_module_version": "1.5.0",
          "state": {
            "_model_module": "@jupyter-widgets/controls",
            "_model_module_version": "1.5.0",
            "_model_name": "ProgressStyleModel",
            "_view_count": null,
            "_view_module": "@jupyter-widgets/base",
            "_view_module_version": "1.2.0",
            "_view_name": "StyleView",
            "bar_color": null,
            "description_width": ""
          }
        },
        "4fefb139c8f54e34906abf4539cb0bd2": {
          "model_module": "@jupyter-widgets/base",
          "model_name": "LayoutModel",
          "model_module_version": "1.2.0",
          "state": {
            "_model_module": "@jupyter-widgets/base",
            "_model_module_version": "1.2.0",
            "_model_name": "LayoutModel",
            "_view_count": null,
            "_view_module": "@jupyter-widgets/base",
            "_view_module_version": "1.2.0",
            "_view_name": "LayoutView",
            "align_content": null,
            "align_items": null,
            "align_self": null,
            "border": null,
            "bottom": null,
            "display": null,
            "flex": null,
            "flex_flow": null,
            "grid_area": null,
            "grid_auto_columns": null,
            "grid_auto_flow": null,
            "grid_auto_rows": null,
            "grid_column": null,
            "grid_gap": null,
            "grid_row": null,
            "grid_template_areas": null,
            "grid_template_columns": null,
            "grid_template_rows": null,
            "height": null,
            "justify_content": null,
            "justify_items": null,
            "left": null,
            "margin": null,
            "max_height": null,
            "max_width": null,
            "min_height": null,
            "min_width": null,
            "object_fit": null,
            "object_position": null,
            "order": null,
            "overflow": null,
            "overflow_x": null,
            "overflow_y": null,
            "padding": null,
            "right": null,
            "top": null,
            "visibility": null,
            "width": null
          }
        },
        "dff54b50c77749afa8ecc352aa51e3e2": {
          "model_module": "@jupyter-widgets/controls",
          "model_name": "DescriptionStyleModel",
          "model_module_version": "1.5.0",
          "state": {
            "_model_module": "@jupyter-widgets/controls",
            "_model_module_version": "1.5.0",
            "_model_name": "DescriptionStyleModel",
            "_view_count": null,
            "_view_module": "@jupyter-widgets/base",
            "_view_module_version": "1.2.0",
            "_view_name": "StyleView",
            "description_width": ""
          }
        }
      }
    }
  },
  "cells": [
    {
      "cell_type": "markdown",
      "metadata": {
        "id": "view-in-github",
        "colab_type": "text"
      },
      "source": [
        "<a href=\"https://colab.research.google.com/github/liao771018/Team-Project/blob/main/TeanProject_CNN.ipynb\" target=\"_parent\"><img src=\"https://colab.research.google.com/assets/colab-badge.svg\" alt=\"Open In Colab\"/></a>"
      ]
    },
    {
      "cell_type": "code",
      "source": [
        "!nvidia-smi"
      ],
      "metadata": {
        "id": "1qzTnnMu5Iv1",
        "outputId": "c58fbbdf-3a59-4f6a-fd0c-4b93d20c3970",
        "colab": {
          "base_uri": "https://localhost:8080/"
        }
      },
      "execution_count": null,
      "outputs": [
        {
          "output_type": "stream",
          "name": "stdout",
          "text": [
            "Tue Aug  2 04:44:46 2022       \n",
            "+-----------------------------------------------------------------------------+\n",
            "| NVIDIA-SMI 460.32.03    Driver Version: 460.32.03    CUDA Version: 11.2     |\n",
            "|-------------------------------+----------------------+----------------------+\n",
            "| GPU  Name        Persistence-M| Bus-Id        Disp.A | Volatile Uncorr. ECC |\n",
            "| Fan  Temp  Perf  Pwr:Usage/Cap|         Memory-Usage | GPU-Util  Compute M. |\n",
            "|                               |                      |               MIG M. |\n",
            "|===============================+======================+======================|\n",
            "|   0  Tesla T4            Off  | 00000000:00:04.0 Off |                    0 |\n",
            "| N/A   44C    P8     9W /  70W |      0MiB / 15109MiB |      0%      Default |\n",
            "|                               |                      |                  N/A |\n",
            "+-------------------------------+----------------------+----------------------+\n",
            "                                                                               \n",
            "+-----------------------------------------------------------------------------+\n",
            "| Processes:                                                                  |\n",
            "|  GPU   GI   CI        PID   Type   Process name                  GPU Memory |\n",
            "|        ID   ID                                                   Usage      |\n",
            "|=============================================================================|\n",
            "|  No running processes found                                                 |\n",
            "+-----------------------------------------------------------------------------+\n"
          ]
        }
      ]
    },
    {
      "cell_type": "code",
      "execution_count": null,
      "metadata": {
        "id": "hoNmD7dZrzq1"
      },
      "outputs": [],
      "source": [
        "import numpy as np\n",
        "import cv2\n",
        "import matplotlib.pyplot as plt\n",
        "import pandas as pd\n",
        "\n",
        "import os\n",
        "from glob import glob\n",
        "\n",
        "from tqdm.auto import tqdm\n",
        "import tensorflow as tf\n",
        "from tensorflow.keras import models, layers, losses, callbacks\n",
        "from sklearn.model_selection import train_test_split\n",
        "from sklearn.metrics import confusion_matrix"
      ]
    },
    {
      "cell_type": "code",
      "source": [
        "from google.colab import drive\n",
        "drive.mount('/content/drive')"
      ],
      "metadata": {
        "colab": {
          "base_uri": "https://localhost:8080/"
        },
        "id": "Omo3LfzTeXp2",
        "outputId": "3797881a-bce9-4373-e5f7-ee558c3177fd"
      },
      "execution_count": null,
      "outputs": [
        {
          "output_type": "stream",
          "name": "stdout",
          "text": [
            "Mounted at /content/drive\n"
          ]
        }
      ]
    },
    {
      "cell_type": "markdown",
      "source": [
        "# Prepare dataset"
      ],
      "metadata": {
        "id": "65ptZBNHvwJd"
      }
    },
    {
      "cell_type": "code",
      "source": [
        "# 模型要用的圖片大小\n",
        "IMG_SIZE = 224\n",
        "\n",
        "# 模型檔名\n",
        "model_name = 'CNN_TP_ppt_2.h5'\n",
        "\n",
        "# 記錄檔名\n",
        "log_name = 'CNN_logs_ppt_2.csv'\n",
        "\n",
        "# 模型存檔的位置\n",
        "save_model_path = '/content/drive/MyDrive/12_團體專題_第四組/02_模型/01_CNN'\n",
        "\n",
        "model_path = save_model_path + '/' + model_name\n",
        "log_path = save_model_path + '/' + log_name"
      ],
      "metadata": {
        "id": "NXeul_YtxYqC"
      },
      "execution_count": null,
      "outputs": []
    },
    {
      "cell_type": "code",
      "source": [
        "# 讀取資料\n",
        "img_dir = '/content/drive/MyDrive/12_團體專題_第四組/01_圖片資料/02_進模型的圖片'\n",
        "\n",
        "trains = glob(img_dir + '/train/*')\n",
        "tests = glob(img_dir + '/test/*')\n",
        "\n",
        "print('train:', len(trains))\n",
        "print('test:', len(tests))"
      ],
      "metadata": {
        "colab": {
          "base_uri": "https://localhost:8080/"
        },
        "id": "7O7sI7cjvinG",
        "outputId": "e40697b4-c4c2-4f72-c71b-856b0a85385c"
      },
      "execution_count": null,
      "outputs": [
        {
          "output_type": "stream",
          "name": "stdout",
          "text": [
            "train: 6088\n",
            "test: 838\n"
          ]
        }
      ]
    },
    {
      "cell_type": "code",
      "source": [
        "# 拿一張出來看看\n",
        "idx = np.random.randint(0, len(trains))\n",
        "print(trains[idx])\n",
        "\n",
        "# cv2 讀取是 BGR plt 顯示是 RGB\n",
        "img = cv2.imread(trains[idx])[:,:,::-1]\n",
        "print('shape:', img.shape)\n",
        "\n",
        "# 改變 shape\n",
        "img_resize = cv2.resize(img, (IMG_SIZE, IMG_SIZE))\n",
        "print('resize shape:', img_resize.shape)\n",
        "\n",
        "cls = trains[idx].split('/')[-1].split('_')[0]\n",
        "print('class:', cls)\n",
        "\n",
        "plt.imshow(img_resize)"
      ],
      "metadata": {
        "colab": {
          "base_uri": "https://localhost:8080/",
          "height": 356
        },
        "id": "rKDHpMJSxrr5",
        "outputId": "fb7b4553-1b03-4cb5-db3d-e270426cfeb6"
      },
      "execution_count": null,
      "outputs": [
        {
          "output_type": "stream",
          "name": "stdout",
          "text": [
            "/content/drive/MyDrive/12_團體專題_第四組/01_圖片資料/02_進模型的圖片/train/octopus_crawler_01286.jpg\n",
            "shape: (453, 805, 3)\n",
            "resize shape: (224, 224, 3)\n",
            "class: octopus\n"
          ]
        },
        {
          "output_type": "execute_result",
          "data": {
            "text/plain": [
              "<matplotlib.image.AxesImage at 0x7f8df19d1410>"
            ]
          },
          "metadata": {},
          "execution_count": 7
        },
        {
          "output_type": "display_data",
          "data": {
            "text/plain": [
              "<Figure size 432x288 with 1 Axes>"
            ],
            "image/png": "[encoded data removed]"
          },
          "metadata": {
            "needs_background": "light"
          }
        }
      ]
    },
    {
      "cell_type": "code",
      "source": [
        "img = np.array(img) / 255.0\n",
        "img"
      ],
      "metadata": {
        "colab": {
          "base_uri": "https://localhost:8080/"
        },
        "id": "hKTRBFuJfbyj",
        "outputId": "873180b8-622e-4197-fc16-f4381428f494"
      },
      "execution_count": null,
      "outputs": [
        {
          "output_type": "execute_result",
          "data": {
            "text/plain": [
              "array([[[0.11764706, 0.28627451, 0.10980392],\n",
              "        [0.11372549, 0.28235294, 0.10588235],\n",
              "        [0.11372549, 0.28235294, 0.10196078],\n",
              "        ...,\n",
              "        [0.14901961, 0.18823529, 0.05098039],\n",
              "        [0.14509804, 0.18431373, 0.04705882],\n",
              "        [0.14509804, 0.18431373, 0.04705882]],\n",
              "\n",
              "       [[0.11764706, 0.28627451, 0.10980392],\n",
              "        [0.11372549, 0.28235294, 0.10588235],\n",
              "        [0.11372549, 0.28235294, 0.10196078],\n",
              "        ...,\n",
              "        [0.14901961, 0.18823529, 0.05098039],\n",
              "        [0.14901961, 0.18823529, 0.05098039],\n",
              "        [0.14901961, 0.18823529, 0.05098039]],\n",
              "\n",
              "       [[0.11764706, 0.28627451, 0.10980392],\n",
              "        [0.11372549, 0.28235294, 0.10588235],\n",
              "        [0.11372549, 0.28235294, 0.10196078],\n",
              "        ...,\n",
              "        [0.15294118, 0.19215686, 0.05882353],\n",
              "        [0.15686275, 0.19607843, 0.0627451 ],\n",
              "        [0.15686275, 0.19607843, 0.0627451 ]],\n",
              "\n",
              "       ...,\n",
              "\n",
              "       [[0.37647059, 0.30196078, 0.17647059],\n",
              "        [0.3372549 , 0.2627451 , 0.1372549 ],\n",
              "        [0.29019608, 0.20784314, 0.08627451],\n",
              "        ...,\n",
              "        [0.47843137, 0.35294118, 0.30196078],\n",
              "        [0.50588235, 0.38431373, 0.30196078],\n",
              "        [0.53333333, 0.41176471, 0.29803922]],\n",
              "\n",
              "       [[0.28235294, 0.20392157, 0.09803922],\n",
              "        [0.2745098 , 0.19607843, 0.09019608],\n",
              "        [0.27058824, 0.18823529, 0.08235294],\n",
              "        ...,\n",
              "        [0.50980392, 0.38431373, 0.33333333],\n",
              "        [0.51764706, 0.39607843, 0.31372549],\n",
              "        [0.54509804, 0.42352941, 0.30980392]],\n",
              "\n",
              "       [[0.25098039, 0.17254902, 0.07843137],\n",
              "        [0.27058824, 0.19215686, 0.09803922],\n",
              "        [0.28627451, 0.2       , 0.10980392],\n",
              "        ...,\n",
              "        [0.52941176, 0.40392157, 0.35294118],\n",
              "        [0.50980392, 0.38823529, 0.30588235],\n",
              "        [0.51764706, 0.39607843, 0.28235294]]])"
            ]
          },
          "metadata": {},
          "execution_count": 8
        }
      ]
    },
    {
      "cell_type": "code",
      "source": [
        "# 把題目跟答案做成 DataFrame\n",
        "train_df = pd.DataFrame({\n",
        "              'img_path': trains,                  \n",
        "})\n",
        "test_df = pd.DataFrame({\n",
        "              'img_path': tests\n",
        "})\n",
        "\n",
        "\n",
        "def ans(img_path):\n",
        "  # 取出藏在檔名的答案\n",
        "  label = img_path.split('/')[-1].split('_')[0]\n",
        "  return label\n",
        "\n",
        "\n",
        "train_df['label'] = train_df['img_path'].apply(ans)\n",
        "test_df['label'] = test_df['img_path'].apply(ans)\n",
        "\n",
        "train_df"
      ],
      "metadata": {
        "colab": {
          "base_uri": "https://localhost:8080/",
          "height": 424
        },
        "id": "fQCjPpGJ8YX-",
        "outputId": "1186f570-c5e0-47d1-c055-95d0dd13eb9a"
      },
      "execution_count": null,
      "outputs": [
        {
          "output_type": "execute_result",
          "data": {
            "text/plain": [
              "                                               img_path         label\n",
              "0     /content/drive/MyDrive/12_團體專題_第四組/01_圖片資料/02_...  bigfin squid\n",
              "1     /content/drive/MyDrive/12_團體專題_第四組/01_圖片資料/02_...  bigfin squid\n",
              "2     /content/drive/MyDrive/12_團體專題_第四組/01_圖片資料/02_...  bigfin squid\n",
              "3     /content/drive/MyDrive/12_團體專題_第四組/01_圖片資料/02_...  bigfin squid\n",
              "4     /content/drive/MyDrive/12_團體專題_第四組/01_圖片資料/02_...  bigfin squid\n",
              "...                                                 ...           ...\n",
              "6083  /content/drive/MyDrive/12_團體專題_第四組/01_圖片資料/02_...       octopus\n",
              "6084  /content/drive/MyDrive/12_團體專題_第四組/01_圖片資料/02_...       octopus\n",
              "6085  /content/drive/MyDrive/12_團體專題_第四組/01_圖片資料/02_...       octopus\n",
              "6086  /content/drive/MyDrive/12_團體專題_第四組/01_圖片資料/02_...       octopus\n",
              "6087  /content/drive/MyDrive/12_團體專題_第四組/01_圖片資料/02_...       octopus\n",
              "\n",
              "[6088 rows x 2 columns]"
            ],
            "text/html": [
              "\n",
              "  <div id=\"df-c104724e-fc74-412c-8f3f-c79e18d7bf17\">\n",
              "    <div class=\"colab-df-container\">\n",
              "      <div>\n",
              "<style scoped>\n",
              "    .dataframe tbody tr th:only-of-type {\n",
              "        vertical-align: middle;\n",
              "    }\n",
              "\n",
              "    .dataframe tbody tr th {\n",
              "        vertical-align: top;\n",
              "    }\n",
              "\n",
              "    .dataframe thead th {\n",
              "        text-align: right;\n",
              "    }\n",
              "</style>\n",
              "<table border=\"1\" class=\"dataframe\">\n",
              "  <thead>\n",
              "    <tr style=\"text-align: right;\">\n",
              "      <th></th>\n",
              "      <th>img_path</th>\n",
              "      <th>label</th>\n",
              "    </tr>\n",
              "  </thead>\n",
              "  <tbody>\n",
              "    <tr>\n",
              "      <th>0</th>\n",
              "      <td>/content/drive/MyDrive/12_團體專題_第四組/01_圖片資料/02_...</td>\n",
              "      <td>bigfin squid</td>\n",
              "    </tr>\n",
              "    <tr>\n",
              "      <th>1</th>\n",
              "      <td>/content/drive/MyDrive/12_團體專題_第四組/01_圖片資料/02_...</td>\n",
              "      <td>bigfin squid</td>\n",
              "    </tr>\n",
              "    <tr>\n",
              "      <th>2</th>\n",
              "      <td>/content/drive/MyDrive/12_團體專題_第四組/01_圖片資料/02_...</td>\n",
              "      <td>bigfin squid</td>\n",
              "    </tr>\n",
              "    <tr>\n",
              "      <th>3</th>\n",
              "      <td>/content/drive/MyDrive/12_團體專題_第四組/01_圖片資料/02_...</td>\n",
              "      <td>bigfin squid</td>\n",
              "    </tr>\n",
              "    <tr>\n",
              "      <th>4</th>\n",
              "      <td>/content/drive/MyDrive/12_團體專題_第四組/01_圖片資料/02_...</td>\n",
              "      <td>bigfin squid</td>\n",
              "    </tr>\n",
              "    <tr>\n",
              "      <th>...</th>\n",
              "      <td>...</td>\n",
              "      <td>...</td>\n",
              "    </tr>\n",
              "    <tr>\n",
              "      <th>6083</th>\n",
              "      <td>/content/drive/MyDrive/12_團體專題_第四組/01_圖片資料/02_...</td>\n",
              "      <td>octopus</td>\n",
              "    </tr>\n",
              "    <tr>\n",
              "      <th>6084</th>\n",
              "      <td>/content/drive/MyDrive/12_團體專題_第四組/01_圖片資料/02_...</td>\n",
              "      <td>octopus</td>\n",
              "    </tr>\n",
              "    <tr>\n",
              "      <th>6085</th>\n",
              "      <td>/content/drive/MyDrive/12_團體專題_第四組/01_圖片資料/02_...</td>\n",
              "      <td>octopus</td>\n",
              "    </tr>\n",
              "    <tr>\n",
              "      <th>6086</th>\n",
              "      <td>/content/drive/MyDrive/12_團體專題_第四組/01_圖片資料/02_...</td>\n",
              "      <td>octopus</td>\n",
              "    </tr>\n",
              "    <tr>\n",
              "      <th>6087</th>\n",
              "      <td>/content/drive/MyDrive/12_團體專題_第四組/01_圖片資料/02_...</td>\n",
              "      <td>octopus</td>\n",
              "    </tr>\n",
              "  </tbody>\n",
              "</table>\n",
              "<p>6088 rows × 2 columns</p>\n",
              "</div>\n",
              "      <button class=\"colab-df-convert\" onclick=\"convertToInteractive('df-c104724e-fc74-412c-8f3f-c79e18d7bf17')\"\n",
              "              title=\"Convert this dataframe to an interactive table.\"\n",
              "              style=\"display:none;\">\n",
              "        \n",
              "  <svg xmlns=\"http://www.w3.org/2000/svg\" height=\"24px\"viewBox=\"0 0 24 24\"\n",
              "       width=\"24px\">\n",
              "    <path d=\"M0 0h24v24H0V0z\" fill=\"none\"/>\n",
              "    <path d=\"M18.56 5.44l.94 2.06.94-2.06 2.06-.94-2.06-.94-.94-2.06-.94 2.06-2.06.94zm-11 1L8.5 8.5l.94-2.06 2.06-.94-2.06-.94L8.5 2.5l-.94 2.06-2.06.94zm10 10l.94 2.06.94-2.06 2.06-.94-2.06-.94-.94-2.06-.94 2.06-2.06.94z\"/><path d=\"M17.41 7.96l-1.37-1.37c-.4-.4-.92-.59-1.43-.59-.52 0-1.04.2-1.43.59L10.3 9.45l-7.72 7.72c-.78.78-.78 2.05 0 2.83L4 21.41c.39.39.9.59 1.41.59.51 0 1.02-.2 1.41-.59l7.78-7.78 2.81-2.81c.8-.78.8-2.07 0-2.86zM5.41 20L4 18.59l7.72-7.72 1.47 1.35L5.41 20z\"/>\n",
              "  </svg>\n",
              "      </button>\n",
              "      \n",
              "  <style>\n",
              "    .colab-df-container {\n",
              "      display:flex;\n",
              "      flex-wrap:wrap;\n",
              "      gap: 12px;\n",
              "    }\n",
              "\n",
              "    .colab-df-convert {\n",
              "      background-color: #E8F0FE;\n",
              "      border: none;\n",
              "      border-radius: 50%;\n",
              "      cursor: pointer;\n",
              "      display: none;\n",
              "      fill: #1967D2;\n",
              "      height: 32px;\n",
              "      padding: 0 0 0 0;\n",
              "      width: 32px;\n",
              "    }\n",
              "\n",
              "    .colab-df-convert:hover {\n",
              "      background-color: #E2EBFA;\n",
              "      box-shadow: 0px 1px 2px rgba(60, 64, 67, 0.3), 0px 1px 3px 1px rgba(60, 64, 67, 0.15);\n",
              "      fill: #174EA6;\n",
              "    }\n",
              "\n",
              "    [theme=dark] .colab-df-convert {\n",
              "      background-color: #3B4455;\n",
              "      fill: #D2E3FC;\n",
              "    }\n",
              "\n",
              "    [theme=dark] .colab-df-convert:hover {\n",
              "      background-color: #434B5C;\n",
              "      box-shadow: 0px 1px 3px 1px rgba(0, 0, 0, 0.15);\n",
              "      filter: drop-shadow(0px 1px 2px rgba(0, 0, 0, 0.3));\n",
              "      fill: #FFFFFF;\n",
              "    }\n",
              "  </style>\n",
              "\n",
              "      <script>\n",
              "        const buttonEl =\n",
              "          document.querySelector('#df-c104724e-fc74-412c-8f3f-c79e18d7bf17 button.colab-df-convert');\n",
              "        buttonEl.style.display =\n",
              "          google.colab.kernel.accessAllowed ? 'block' : 'none';\n",
              "\n",
              "        async function convertToInteractive(key) {\n",
              "          const element = document.querySelector('#df-c104724e-fc74-412c-8f3f-c79e18d7bf17');\n",
              "          const dataTable =\n",
              "            await google.colab.kernel.invokeFunction('convertToInteractive',\n",
              "                                                     [key], {});\n",
              "          if (!dataTable) return;\n",
              "\n",
              "          const docLinkHtml = 'Like what you see? Visit the ' +\n",
              "            '<a target=\"_blank\" href=https://colab.research.google.com/notebooks/data_table.ipynb>data table notebook</a>'\n",
              "            + ' to learn more about interactive tables.';\n",
              "          element.innerHTML = '';\n",
              "          dataTable['output_type'] = 'display_data';\n",
              "          await google.colab.output.renderOutput(dataTable, element);\n",
              "          const docLink = document.createElement('div');\n",
              "          docLink.innerHTML = docLinkHtml;\n",
              "          element.appendChild(docLink);\n",
              "        }\n",
              "      </script>\n",
              "    </div>\n",
              "  </div>\n",
              "  "
            ]
          },
          "metadata": {},
          "execution_count": 9
        }
      ]
    },
    {
      "cell_type": "code",
      "source": [
        "# 轉換答案的字典\n",
        "cls = train_df['label'].unique()\n",
        "\n",
        "cls2idx = {c: i for i, c in enumerate(cls)}\n",
        "idx2cls = {i: c for i, c in enumerate(cls)}\n",
        "\n",
        "cls2idx, idx2cls"
      ],
      "metadata": {
        "colab": {
          "base_uri": "https://localhost:8080/"
        },
        "id": "QXQW2IU9kZ-0",
        "outputId": "1b9a036d-8f94-412f-f761-a68537879e7c"
      },
      "execution_count": null,
      "outputs": [
        {
          "output_type": "execute_result",
          "data": {
            "text/plain": [
              "({'bigfin squid': 0,\n",
              "  'cuttlefish': 4,\n",
              "  'neritic squid': 1,\n",
              "  'octopus': 2,\n",
              "  'squid': 3},\n",
              " {0: 'bigfin squid',\n",
              "  1: 'neritic squid',\n",
              "  2: 'octopus',\n",
              "  3: 'squid',\n",
              "  4: 'cuttlefish'})"
            ]
          },
          "metadata": {},
          "execution_count": 10
        }
      ]
    },
    {
      "cell_type": "code",
      "source": [
        "# 準備 train / validation / test  全部轉 np.array\n",
        "x_train_path = np.array(train_df['img_path'])\n",
        "y_train = np.array(train_df['label'].replace(cls2idx))\n",
        "\n",
        "x_test_path = np.array(test_df['img_path'])\n",
        "y_test = np.array(test_df['label'].replace(cls2idx))\n",
        "\n",
        "# 從 train 裡面切分 validation 出來\n",
        "x_train_path, x_val_path, y_train, y_val = train_test_split(x_train_path, y_train, test_size=0.2)\n",
        "\n",
        "# 看一下 shape 是否一樣\n",
        "x_train_path.shape, y_train.shape, x_val_path.shape, y_val.shape, x_test_path.shape, y_test.shape"
      ],
      "metadata": {
        "colab": {
          "base_uri": "https://localhost:8080/"
        },
        "id": "bedR0WRBkmQl",
        "outputId": "3fd20e00-0335-4b0b-c895-f93cc8df79f3"
      },
      "execution_count": null,
      "outputs": [
        {
          "output_type": "execute_result",
          "data": {
            "text/plain": [
              "((4870,), (4870,), (1218,), (1218,), (838,), (838,))"
            ]
          },
          "metadata": {},
          "execution_count": 11
        }
      ]
    },
    {
      "cell_type": "code",
      "source": [
        "# 建立批次讀圖後送進模型的函式\n",
        "\n",
        "def get_data(x, y, batch=None):\n",
        "    # x : 圖片路徑\n",
        "    # y : 答案\n",
        "\n",
        "    # 如果不是 None, 那代表是數字，取出這個數量的 idx\n",
        "    # 範例 batch=20, 隨機 20 個idx\n",
        "    # 如果是 None, 那就沒有隨機取, 取全部 idx\n",
        "    if batch is not None:\n",
        "\n",
        "      idx = np.random.randint(0, len(x), size=batch) # 在(0, len(x))取隨機的 size 個數 (可能取到重覆的)\n",
        "\n",
        "      x, y = x[idx], y[idx]\n",
        "      # 這時候 x, y 會是一批隨機的資料\n",
        "    \n",
        "    # img_pre: preprocess後的圖\n",
        "    # img_ori: 原圖\n",
        "    img_pre, img_ori = [], []\n",
        "\n",
        "    for p in x:\n",
        "\n",
        "      img = cv2.imread(p)[:,:,::-1]\n",
        "      img = cv2.resize(img, (IMG_SIZE, IMG_SIZE))\n",
        "      img = np.array(img)\n",
        "      img_pre.append(img / 255.0)\n",
        "      img_ori.append(img)\n",
        "\n",
        "    return (np.array(img_pre), np.array(img_ori), y)\n"
      ],
      "metadata": {
        "id": "38FGsHwvJksL"
      },
      "execution_count": null,
      "outputs": []
    },
    {
      "cell_type": "code",
      "source": [
        "# 把 validation 全部讀出來\n",
        "x_val, _, y_val = get_data(x_val_path, y_val)\n",
        "\n",
        "x_val.shape, y_val.shape"
      ],
      "metadata": {
        "colab": {
          "base_uri": "https://localhost:8080/"
        },
        "id": "l5jcGxndJoXQ",
        "outputId": "ed756277-e4e3-4b30-aea1-163d4dc3645b"
      },
      "execution_count": null,
      "outputs": [
        {
          "output_type": "execute_result",
          "data": {
            "text/plain": [
              "((1218, 224, 224, 3), (1218,))"
            ]
          },
          "metadata": {},
          "execution_count": 13
        }
      ]
    },
    {
      "cell_type": "markdown",
      "source": [
        "#Build Model"
      ],
      "metadata": {
        "id": "qxX55Hjg-Q-l"
      }
    },
    {
      "cell_type": "code",
      "source": [
        "from tensorflow.keras import layers\n",
        "# 建立模型架構\n",
        "\n",
        "layers = [\n",
        "      layers.Conv2D(64, 3, padding='same', activation='relu', input_shape=(IMG_SIZE, IMG_SIZE, 3)),\n",
        "      layers.BatchNormalization(),\n",
        "      layers.Conv2D(64, 3, padding='same', activation='relu'),\n",
        "      layers.BatchNormalization(),\n",
        "      layers.MaxPooling2D(),\n",
        "\n",
        "      layers.Conv2D(128, 3, padding='same', activation='relu'),\n",
        "      layers.BatchNormalization(),\n",
        "      layers.Conv2D(128, 3, padding='same', activation='relu'),\n",
        "      layers.BatchNormalization(),\n",
        "      layers.MaxPooling2D(),\n",
        "\n",
        "      layers.Conv2D(256, 3, padding='same', activation='relu'),\n",
        "      layers.BatchNormalization(),\n",
        "      layers.Conv2D(256, 3, padding='same', activation='relu'),\n",
        "      layers.BatchNormalization(),\n",
        "      layers.Conv2D(256, 3, padding='same', activation='relu'),\n",
        "      layers.BatchNormalization(),\n",
        "      layers.MaxPooling2D(),\n",
        "\n",
        "      layers.Conv2D(512, 3, padding='same', activation='relu'),\n",
        "      layers.BatchNormalization(),\n",
        "      layers.Conv2D(512, 3, padding='same', activation='relu'),\n",
        "      layers.BatchNormalization(),\n",
        "      layers.Conv2D(512, 3, padding='same', activation='relu'),\n",
        "      layers.BatchNormalization(),\n",
        "      layers.MaxPooling2D(),\n",
        "\n",
        "      layers.Conv2D(512, 3, padding='same', activation='relu'),\n",
        "      layers.BatchNormalization(),\n",
        "      layers.Conv2D(512, 3, padding='same', activation='relu'),\n",
        "      layers.BatchNormalization(),\n",
        "      layers.Conv2D(512, 3, padding='same', activation='relu'),\n",
        "      layers.BatchNormalization(),\n",
        "      layers.MaxPooling2D(),\n",
        "\n",
        "      layers.BatchNormalization(),\n",
        "      layers.GlobalAveragePooling2D(),\n",
        "      # layers.Flatten(),\n",
        "      # layers.Dense(512, activation='relu'),\n",
        "      layers.Dense(256, activation='relu'),\n",
        "      layers.Dense(len(cls2idx), activation='softmax')\n",
        "\n",
        "]\n",
        "\n",
        "model = models.Sequential(layers)\n",
        "model.summary()"
      ],
      "metadata": {
        "colab": {
          "base_uri": "https://localhost:8080/"
        },
        "id": "iesqfgnj-V3T",
        "outputId": "7ddfe7d8-8c3e-4cbc-caad-147c8b2218db"
      },
      "execution_count": null,
      "outputs": [
        {
          "output_type": "stream",
          "name": "stdout",
          "text": [
            "Model: \"sequential\"\n",
            "_________________________________________________________________\n",
            " Layer (type)                Output Shape              Param #   \n",
            "=================================================================\n",
            " conv2d (Conv2D)             (None, 224, 224, 64)      1792      \n",
            "                                                                 \n",
            " batch_normalization (BatchN  (None, 224, 224, 64)     256       \n",
            " ormalization)                                                   \n",
            "                                                                 \n",
            " conv2d_1 (Conv2D)           (None, 224, 224, 64)      36928     \n",
            "                                                                 \n",
            " batch_normalization_1 (Batc  (None, 224, 224, 64)     256       \n",
            " hNormalization)                                                 \n",
            "                                                                 \n",
            " max_pooling2d (MaxPooling2D  (None, 112, 112, 64)     0         \n",
            " )                                                               \n",
            "                                                                 \n",
            " conv2d_2 (Conv2D)           (None, 112, 112, 128)     73856     \n",
            "                                                                 \n",
            " batch_normalization_2 (Batc  (None, 112, 112, 128)    512       \n",
            " hNormalization)                                                 \n",
            "                                                                 \n",
            " conv2d_3 (Conv2D)           (None, 112, 112, 128)     147584    \n",
            "                                                                 \n",
            " batch_normalization_3 (Batc  (None, 112, 112, 128)    512       \n",
            " hNormalization)                                                 \n",
            "                                                                 \n",
            " max_pooling2d_1 (MaxPooling  (None, 56, 56, 128)      0         \n",
            " 2D)                                                             \n",
            "                                                                 \n",
            " conv2d_4 (Conv2D)           (None, 56, 56, 256)       295168    \n",
            "                                                                 \n",
            " batch_normalization_4 (Batc  (None, 56, 56, 256)      1024      \n",
            " hNormalization)                                                 \n",
            "                                                                 \n",
            " conv2d_5 (Conv2D)           (None, 56, 56, 256)       590080    \n",
            "                                                                 \n",
            " batch_normalization_5 (Batc  (None, 56, 56, 256)      1024      \n",
            " hNormalization)                                                 \n",
            "                                                                 \n",
            " conv2d_6 (Conv2D)           (None, 56, 56, 256)       590080    \n",
            "                                                                 \n",
            " batch_normalization_6 (Batc  (None, 56, 56, 256)      1024      \n",
            " hNormalization)                                                 \n",
            "                                                                 \n",
            " max_pooling2d_2 (MaxPooling  (None, 28, 28, 256)      0         \n",
            " 2D)                                                             \n",
            "                                                                 \n",
            " conv2d_7 (Conv2D)           (None, 28, 28, 512)       1180160   \n",
            "                                                                 \n",
            " batch_normalization_7 (Batc  (None, 28, 28, 512)      2048      \n",
            " hNormalization)                                                 \n",
            "                                                                 \n",
            " conv2d_8 (Conv2D)           (None, 28, 28, 512)       2359808   \n",
            "                                                                 \n",
            " batch_normalization_8 (Batc  (None, 28, 28, 512)      2048      \n",
            " hNormalization)                                                 \n",
            "                                                                 \n",
            " conv2d_9 (Conv2D)           (None, 28, 28, 512)       2359808   \n",
            "                                                                 \n",
            " batch_normalization_9 (Batc  (None, 28, 28, 512)      2048      \n",
            " hNormalization)                                                 \n",
            "                                                                 \n",
            " max_pooling2d_3 (MaxPooling  (None, 14, 14, 512)      0         \n",
            " 2D)                                                             \n",
            "                                                                 \n",
            " conv2d_10 (Conv2D)          (None, 14, 14, 512)       2359808   \n",
            "                                                                 \n",
            " batch_normalization_10 (Bat  (None, 14, 14, 512)      2048      \n",
            " chNormalization)                                                \n",
            "                                                                 \n",
            " conv2d_11 (Conv2D)          (None, 14, 14, 512)       2359808   \n",
            "                                                                 \n",
            " batch_normalization_11 (Bat  (None, 14, 14, 512)      2048      \n",
            " chNormalization)                                                \n",
            "                                                                 \n",
            " conv2d_12 (Conv2D)          (None, 14, 14, 512)       2359808   \n",
            "                                                                 \n",
            " batch_normalization_12 (Bat  (None, 14, 14, 512)      2048      \n",
            " chNormalization)                                                \n",
            "                                                                 \n",
            " max_pooling2d_4 (MaxPooling  (None, 7, 7, 512)        0         \n",
            " 2D)                                                             \n",
            "                                                                 \n",
            " batch_normalization_13 (Bat  (None, 7, 7, 512)        2048      \n",
            " chNormalization)                                                \n",
            "                                                                 \n",
            " global_average_pooling2d (G  (None, 512)              0         \n",
            " lobalAveragePooling2D)                                          \n",
            "                                                                 \n",
            " dense (Dense)               (None, 256)               131328    \n",
            "                                                                 \n",
            " dense_1 (Dense)             (None, 5)                 1285      \n",
            "                                                                 \n",
            "=================================================================\n",
            "Total params: 14,866,245\n",
            "Trainable params: 14,856,773\n",
            "Non-trainable params: 9,472\n",
            "_________________________________________________________________\n"
          ]
        }
      ]
    },
    {
      "cell_type": "code",
      "source": [
        "# 選擇損失函數\n",
        "model.compile(loss=losses.SparseCategoricalCrossentropy(),\n",
        "       optimizer=\"adam\",\n",
        "       metrics=[\"accuracy\"])"
      ],
      "metadata": {
        "id": "p4sxlkyQMc0f"
      },
      "execution_count": null,
      "outputs": []
    },
    {
      "cell_type": "markdown",
      "source": [
        "#Training"
      ],
      "metadata": {
        "id": "Xt3IFdViA7y2"
      }
    },
    {
      "cell_type": "code",
      "source": [
        "# EarlyStoppong 條件\n",
        "stopping = 200\n",
        "min_val_loss, best_val_accuracy = float(\"inf\"), 0\n",
        "\n",
        "# 要跑的數量\n",
        "epoch = 200\n",
        "batch = 100\n",
        "\n",
        "# 一個 epoch 需要跑的 batch 次數\n",
        "counts = int(len(trains)/batch) + 1\n",
        "\n",
        "# 把紀錄蒐集起來\n",
        "loss = []\n",
        "accuracy = []\n",
        "val_loss = []\n",
        "val_accuracy = []\n",
        "\n",
        "\n",
        "for e in range(epoch):\n",
        "\n",
        "    total_loss, total_accuracy = 0, 0\n",
        "    print('Epoch:', e+1, '/', epoch, end='\\t')\n",
        "        \n",
        "    for b in tqdm(range(counts)):\n",
        "\n",
        "        # 讀取資料\n",
        "        x, _, y = get_data(x_train_path, y_train, batch=None) \n",
        "\n",
        "        # 以 batch 方式做訓練\n",
        "        batch_loss, batch_accuracy = model.train_on_batch(x, y)\n",
        "        \n",
        "        total_loss += batch_loss\n",
        "        total_accuracy += batch_accuracy\n",
        "\n",
        "    # 把每一次 batch 的 loss, accuracy 做平均後放進 list\n",
        "    batch_avg_loss = total_loss / counts\n",
        "    batch_avg_accuracy = total_accuracy / counts\n",
        "\n",
        "    # test\n",
        "    epoch_val_loss, epoch_val_accuracy = model.test_on_batch(x_val, y_val)\n",
        "\n",
        "    # 印出 loss, accuracy, val_loss, val_accuracy\n",
        "    print(\"loss: {:.4f} - accuracy: {:.4f}\".format(batch_avg_loss, batch_avg_accuracy), end=' - ')\n",
        "    print(\"val_loss: {:.4f} - val_accuracy: {:.4f}\".format(epoch_val_loss, epoch_val_accuracy))\n",
        "    print('-' * 100)\n",
        "\n",
        "    # 把四個值放進 list 做紀錄\n",
        "    loss.append(batch_avg_loss)\n",
        "    accuracy.append(batch_avg_accuracy)\n",
        "    val_loss.append(epoch_val_loss)\n",
        "    val_accuracy.append(epoch_val_accuracy)\n",
        "\n",
        "    # 啟動 EarlyStopping 條件\n",
        "    if epoch_val_loss < min_val_loss:\n",
        "\n",
        "        min_val_loss, best_val_accuracy = epoch_val_loss, epoch_val_accuracy\n",
        "        patience = 0\n",
        "        model.save(model_path)\n",
        "\n",
        "    else:\n",
        "        patience = patience + 1\n",
        "\n",
        "    if patience == stopping:\n",
        "        break   \n",
        "\n",
        "print('\\nThe Best', end='\\n')\n",
        "print(\"val_loss:\", min_val_loss, '-', 'val_accuracy:', best_val_accuracy)\n",
        "\n",
        "# 7/14 (2cls) best val_loss: 0.2518240809440613 - val-accuracy: - 0.9020618796348572 (Conv 256兩層)\n",
        "# 7/14 (2cls) best val_loss: 0.15154021978378296 - val_accuracy: - 0.938144326210022 (Conv 256三層)\n",
        "\n",
        "# 7/19 (5cls) best val_loss: 0.39365118741989136 - val_accuracy: 0.8590164184570312"
      ],
      "metadata": {
        "id": "O44fvJOlA5jx",
        "colab": {
          "base_uri": "https://localhost:8080/",
          "height": 66,
          "referenced_widgets": [
            "51e60d1b8bd94f1c858269f91d853256",
            "06a8f0fbcd9c4c0cbe721a8d8f73c80b",
            "5da4bc66dfd9404ab4752a52229c2fca",
            "60365c3dcb2f4add976f5b7bd06242bb",
            "d644e6fd79134fb6841d84ba7f5dcebd",
            "e4a04631e8be42bfa78599673c1077f0",
            "a8f29faf866e4745946bfceb39b1428c",
            "366a8f983e6a4618bb446153b3c636e7",
            "13578c4c4e2542debe85578003c89051",
            "4fefb139c8f54e34906abf4539cb0bd2",
            "dff54b50c77749afa8ecc352aa51e3e2"
          ]
        },
        "outputId": "35463351-7b1b-481f-ea79-dc63a9cff520"
      },
      "execution_count": null,
      "outputs": [
        {
          "output_type": "stream",
          "name": "stdout",
          "text": [
            "Epoch: 1 / 200\t"
          ]
        },
        {
          "output_type": "display_data",
          "data": {
            "text/plain": [
              "  0%|          | 0/61 [00:00<?, ?it/s]"
            ],
            "application/vnd.jupyter.widget-view+json": {
              "version_major": 2,
              "version_minor": 0,
              "model_id": "51e60d1b8bd94f1c858269f91d853256"
            }
          },
          "metadata": {}
        }
      ]
    },
    {
      "cell_type": "markdown",
      "source": [
        "# 評估"
      ],
      "metadata": {
        "id": "UKBfEtjLTpde"
      }
    },
    {
      "cell_type": "code",
      "source": [
        "df = pd.DataFrame({\n",
        "        \"loss\" : loss,\n",
        "        \"accuracy\" : accuracy,\n",
        "        \"val_loss\" : val_loss,\n",
        "        \"val_accuracy\" : val_accuracy\n",
        "})\n",
        "\n",
        "df.to_csv(log_path)\n",
        "df"
      ],
      "metadata": {
        "id": "1Yh7FlnVaTbc"
      },
      "execution_count": null,
      "outputs": []
    },
    {
      "cell_type": "code",
      "source": [
        "x_test, x_test_ori, y_test = get_data(x_test_path, y_test)\n",
        "x_test.shape, y_test.shape"
      ],
      "metadata": {
        "id": "Vwd3m8mOPMRQ"
      },
      "execution_count": null,
      "outputs": []
    },
    {
      "cell_type": "code",
      "source": [
        "model = models.load_model(model_path)\n",
        "model.evaluate(x_test, y_test)\n",
        "# 7/14 (2cls) best loss: 0.1870 - accuracy: 0.9370 (Conv 256兩層)\n",
        "# 7/14 (2cls) best loss: 0.2942 - accuracy: 0.9370 (Conv 256三層)\n",
        "\n",
        "# 7/19 (5cls) best loss: 0.4469 - accuracy: 0.8401"
      ],
      "metadata": {
        "id": "_J-APMADR6C6"
      },
      "execution_count": null,
      "outputs": []
    },
    {
      "cell_type": "code",
      "source": [
        "# 混淆矩陣\n",
        "\n",
        "pre = model.predict(x_test).argmax(axis=-1)\n",
        "mat = confusion_matrix(y_test, pre)\n",
        "\n",
        "pd.DataFrame(mat,\n",
        "      columns=['{}預測'.format(i) for i in cls2idx],\n",
        "      index=['{}真實'.format(i) for i in cls2idx])\n"
      ],
      "metadata": {
        "id": "8MQ8N2OPUNkl"
      },
      "execution_count": null,
      "outputs": []
    },
    {
      "cell_type": "code",
      "source": [
        "# 預測錯誤的 index\n",
        "idx = np.nonzero(pre != y_test)[0]\n",
        "\n",
        "# 預測錯誤的 圖 正確值 與 預測值\n",
        "pre_false_img = x_test_ori[idx]\n",
        "pre_false_label = y_test[idx]\n",
        "pre_false_pred = pre[idx]\n",
        "\n",
        "# 設定圖的大小\n",
        "plt.figure(figsize=(15,65))\n",
        "width = 6\n",
        "height = len(idx) // width + 1\n",
        "\n",
        "\n",
        "# 印出來看一下預測錯誤的圖\n",
        "for i in range(len(idx)):\n",
        "\n",
        "    plt.subplot(height, width, i+1)\n",
        "\n",
        "    t = \"[O]:{}\\n[P]:{}\".format(idx2cls[pre_false_label[i]], idx2cls[pre_false_pred[i]])\n",
        "    plt.title(t)\n",
        "\n",
        "    plt.axis(\"off\")\n",
        "    plt.imshow(pre_false_img[i])"
      ],
      "metadata": {
        "id": "02FB0kQCYDWq"
      },
      "execution_count": null,
      "outputs": []
    },
    {
      "cell_type": "code",
      "source": [
        "df = pd.read_csv(log_path)\n",
        "\n",
        "plt.plot(df[\"loss\"])\n",
        "plt.plot(df[\"val_loss\"])\n",
        "plt.legend([\"loss\", \"val_loss\"])\n",
        "plt.title(\"loss\")"
      ],
      "metadata": {
        "id": "K__W0aKOvXcK"
      },
      "execution_count": null,
      "outputs": []
    },
    {
      "cell_type": "code",
      "source": [
        "plt.plot(df[\"accuracy\"])\n",
        "plt.plot(df[\"val_accuracy\"])\n",
        "plt.legend([\"accuracy\", \"val_acuracy\"])\n",
        "plt.title(\"accuracy\")"
      ],
      "metadata": {
        "id": "HhNmieimvXon"
      },
      "execution_count": null,
      "outputs": []
    },
    {
      "cell_type": "code",
      "source": [
        "df = pd.read_csv('/content/drive/MyDrive/12_團體專題_第四組/02_模型/01_CNN/CNN_logs_ppt.csv')\n",
        "\n",
        "plt.plot(df[\"loss\"])\n",
        "plt.plot(df[\"val_loss\"])\n",
        "plt.legend([\"loss\", \"val_loss\"])\n",
        "plt.title(\"loss\")"
      ],
      "metadata": {
        "id": "itU7bQr6KvhF"
      },
      "execution_count": null,
      "outputs": []
    },
    {
      "cell_type": "code",
      "source": [
        "plt.plot(df[\"accuracy\"])\n",
        "plt.plot(df[\"val_accuracy\"])\n",
        "plt.legend([\"accuracy\", \"val_acuracy\"])\n",
        "plt.title(\"accuracy\")"
      ],
      "metadata": {
        "id": "oYKMvXZCKvmX"
      },
      "execution_count": null,
      "outputs": []
    },
    {
      "cell_type": "markdown",
      "source": [
        "# 實際預測"
      ],
      "metadata": {
        "id": "CYR_7t0zbzO8"
      }
    },
    {
      "cell_type": "code",
      "source": [
        "'''\n",
        "# 圖片路徑\n",
        "# img_path = 'cuttlefish_crawler_01779.jpg'\n",
        "# img_path = 'cuttlefish_crawler_01814.jpg'\n",
        "# img_path = 'cuttlefish_crawler_01931.jpg'\n",
        "img_path = 'octopus_crawler_01461.jpg'\n",
        "\n",
        "# 丟入模型進行預測\n",
        "img = cv2.imread(img_path)[:,:,::-1]\n",
        "img_predict = cv2.resize(img, (IMG_SIZE, IMG_SIZE))\n",
        "img_predict = np.array(img_predict).reshape((1, IMG_SIZE, IMG_SIZE, 3)) / 255.0\n",
        "\n",
        "from tensorflow.keras.models import load_model\n",
        "\n",
        "model = load_model(model_path)\n",
        "prob = model.predict(img_predict)[0]\n",
        "print(prob, end='\\n\\n')\n",
        "\n",
        "# 列出各種類的機率\n",
        "for cls, p in zip(cls2idx.keys(), prob):\n",
        "    print(cls, \"的機率:\", round(p, 5))\n",
        "    \n",
        "plt.imshow(img)\n",
        "'''"
      ],
      "metadata": {
        "id": "F0p4sZNCbhJd"
      },
      "execution_count": null,
      "outputs": []
    }
  ]
}